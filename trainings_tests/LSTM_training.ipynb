{
 "cells": [
  {
   "cell_type": "markdown",
   "metadata": {},
   "source": [
    "## LSTM_training.ipynb\n",
    "\n",
    "Original file is located at\n",
    "https://github.com/KyujinHan/Object-Depth-detection-based-hybrid-Distance-estimator/blob/master/odd_train/LSTM_train_sample.ipynb\n",
    "\n",
    "### @author: ODD team\n",
    "### This original file has been modified by our team on 2024-10-15."
   ]
  },
  {
   "cell_type": "markdown",
   "metadata": {},
   "source": [
    "# LSTM Training\n",
    "\n",
    "This notebook outlines the process of estimating the real distance (in meters) of an object using bounding box coordinates. The model predicts the 3D location of a camera based on these coordinates."
   ]
  },
  {
   "cell_type": "markdown",
   "metadata": {},
   "source": [
    "## 1. Distance Estimator\n",
    "- **Purpose**: To estimate the real distance (unit: meter) of an object.\n",
    "- **Input**: Bounding box coordinates `(xmin, ymin, xmax, ymax)`.\n",
    "- **Output**: 3D location `(z)` of camera coordinates `(z_loc)`."
   ]
  },
  {
   "cell_type": "markdown",
   "metadata": {},
   "source": [
    "## 2. Load Module\n",
    "- **Required Libraries**: \n",
    "  - `tqdm`, `os`, `pandas`, `matplotlib.pyplot`, `numpy`, `time`, `torch`, `sklearn.preprocessing`, `custom_datasets`, `sklearn.metrics`, `math`."
   ]
  },
  {
   "cell_type": "code",
   "execution_count": null,
   "metadata": {},
   "outputs": [],
   "source": [
    "!pip tqdm pandas matplotlib numpy torch scikit-learn"
   ]
  },
  {
   "cell_type": "code",
   "execution_count": null,
   "metadata": {},
   "outputs": [],
   "source": [
    "import os\n",
    "import tqdm\n",
    "import pandas as pd\n",
    "import matplotlib.pyplot as plt\n",
    "import numpy as np\n",
    "import time\n",
    "import torch\n",
    "from sklearn.preprocessing import OneHotEncoder, LabelEncoder\n",
    "from sklearn.metrics import mean_absolute_error, mean_squared_error\n",
    "import math\n",
    "import custom_datasets  # Assuming this is a custom module in the project"
   ]
  },
  {
   "cell_type": "markdown",
   "metadata": {},
   "source": [
    "- **Directory Setup**: Ensure the weights directory exists."
   ]
  },
  {
   "cell_type": "code",
   "execution_count": null,
   "metadata": {},
   "outputs": [],
   "source": [
    "# Create a directory for model weights if it doesn't exist\n",
    "weights_dir = './weights'\n",
    "if not os.path.exists(weights_dir):\n",
    "    os.makedirs(weights_dir)"
   ]
  },
  {
   "cell_type": "markdown",
   "metadata": {},
   "source": [
    "## 3. Dataset Preparation\n",
    "- **Data Loading**: Load training, validation, and test datasets from CSV files."
   ]
  },
  {
   "cell_type": "code",
   "execution_count": null,
   "metadata": {},
   "outputs": [],
   "source": [
    "# Load datasets\n",
    "train_data = pd.read_csv('data/train_dataset.csv')\n",
    "val_data = pd.read_csv('data/val_dataset.csv')\n",
    "test_data = pd.read_csv('data/test_dataset.csv')"
   ]
  },
  {
   "cell_type": "markdown",
   "metadata": {},
   "source": [
    "- **Data Cleaning**: Check for missing values and sort the `z_loc` values.\n"
   ]
  },
  {
   "cell_type": "code",
   "execution_count": null,
   "metadata": {},
   "outputs": [],
   "source": [
    "# Check for missing values\n",
    "train_data.isnull().sum()\n",
    "\n",
    "# Sort dataset by z_loc\n",
    "train_data = train_data.sort_values(by='z_loc')"
   ]
  },
  {
   "cell_type": "markdown",
   "metadata": {},
   "source": [
    "- **One-Hot Encoding**: Apply one-hot encoding to the class variable.\n"
   ]
  },
  {
   "cell_type": "code",
   "execution_count": null,
   "metadata": {},
   "outputs": [],
   "source": [
    "# One-hot encoding for the 'class' column\n",
    "onehot_encoder = OneHotEncoder(sparse=False)\n",
    "class_onehot = onehot_encoder.fit_transform(train_data[['class']])"
   ]
  },
  {
   "cell_type": "markdown",
   "metadata": {},
   "source": [
    "- **Label Encoding**: Transform class labels into numerical format."
   ]
  },
  {
   "cell_type": "code",
   "execution_count": null,
   "metadata": {},
   "outputs": [],
   "source": [
    "# Label encoding for 'class' column\n",
    "label_encoder = LabelEncoder()\n",
    "train_data['class_encoded'] = label_encoder.fit_transform(train_data['class'])"
   ]
  },
  {
   "cell_type": "markdown",
   "metadata": {},
   "source": [
    "## 4. Data Information\n",
    "- **Dataset Overview**: Display information about the training dataset."
   ]
  },
  {
   "cell_type": "code",
   "execution_count": null,
   "metadata": {},
   "outputs": [],
   "source": [
    "# Display information about the dataset\n",
    "train_data.info()\n",
    "train_data.describe()"
   ]
  },
  {
   "cell_type": "markdown",
   "metadata": {},
   "source": [
    "- **Variable Selection**: Define the variables used for training."
   ]
  },
  {
   "cell_type": "code",
   "execution_count": null,
   "metadata": {},
   "outputs": [],
   "source": [
    "# Select features and target\n",
    "X_train = train_data[['xmin', 'ymin', 'xmax', 'ymax']]\n",
    "y_train = train_data['z_loc']\n",
    "\n",
    "X_val = val_data[['xmin', 'ymin', 'xmax', 'ymax']]\n",
    "y_val = val_data['z_loc']\n",
    "\n",
    "X_test = test_data[['xmin', 'ymin', 'xmax', 'ymax']]\n",
    "y_test = test_data['z_loc']\n"
   ]
  },
  {
   "cell_type": "markdown",
   "metadata": {},
   "source": [
    "## 5. Model Definition\n",
    "- **Model Architecture**: Define the `Zloc_Estimator` class using LSTM layers and fully connected layers."
   ]
  },
  {
   "cell_type": "code",
   "execution_count": null,
   "metadata": {},
   "outputs": [],
   "source": [
    "import torch.nn as nn\n",
    "\n",
    "class Zloc_Estimator(nn.Module):\n",
    "    def __init__(self, input_size, hidden_size, output_size):\n",
    "        super(Zloc_Estimator, self).__init__()\n",
    "        self.lstm = nn.LSTM(input_size, hidden_size, batch_first=True)\n",
    "        self.fc = nn.Linear(hidden_size, output_size)\n",
    "    \n",
    "    def forward(self, x):\n",
    "        lstm_out, _ = self.lstm(x)\n",
    "        out = self.fc(lstm_out[:, -1, :])  # Take the output from the last time step\n",
    "        return out\n",
    "    "
   ]
  },
  {
   "cell_type": "markdown",
   "metadata": {},
   "source": [
    "- **Alternative Model**: A simpler version of the model (`Zloc_Estimator_s`)."
   ]
  },
  {
   "cell_type": "code",
   "execution_count": null,
   "metadata": {},
   "outputs": [],
   "source": [
    "class Zloc_Estimator_s(nn.Module):\n",
    "    def __init__(self, input_size, output_size):\n",
    "        super(Zloc_Estimator_s, self).__init__()\n",
    "        self.fc = nn.Linear(input_size, output_size)\n",
    "    \n",
    "    def forward(self, x):\n",
    "        return self.fc(x)\n"
   ]
  },
  {
   "cell_type": "markdown",
   "metadata": {},
   "source": [
    "## 6. Training Setup\n",
    "- **Hyperparameters**: Specify input dimensions, hidden dimensions, and layer dimensions."
   ]
  },
  {
   "cell_type": "code",
   "execution_count": null,
   "metadata": {},
   "outputs": [],
   "source": [
    "input_size = 4  # Bounding box coordinates\n",
    "hidden_size = 128  # Hidden units in LSTM layer\n",
    "output_size = 1  # z_loc (distance)"
   ]
  },
  {
   "cell_type": "markdown",
   "metadata": {},
   "source": [
    "- **Loss Function and Optimizer**: Use L1 loss and Adam optimizer."
   ]
  },
  {
   "cell_type": "code",
   "execution_count": null,
   "metadata": {},
   "outputs": [],
   "source": [
    "# Loss function and optimizer\n",
    "loss_fn = nn.L1Loss()\n",
    "optimizer = torch.optim.Adam(model.parameters(), lr=0.001)"
   ]
  },
  {
   "cell_type": "markdown",
   "metadata": {},
   "source": [
    "- **Early Stopping**: Implement early stopping to prevent overfitting."
   ]
  },
  {
   "cell_type": "code",
   "execution_count": null,
   "metadata": {},
   "outputs": [],
   "source": [
    "# Early stopping criterion\n",
    "early_stopping = 5  # Number of epochs to wait for validation loss improvement"
   ]
  },
  {
   "cell_type": "markdown",
   "metadata": {},
   "source": [
    "## 7. Training and Validation Functions\n",
    "- **Training Function**: Define the training loop, including loss calculation and backpropagation."
   ]
  },
  {
   "cell_type": "code",
   "execution_count": null,
   "metadata": {},
   "outputs": [],
   "source": [
    "def train_model(model, X_train, y_train, epochs):\n",
    "    model.train()\n",
    "    for epoch in range(epochs):\n",
    "        optimizer.zero_grad()\n",
    "        outputs = model(X_train)\n",
    "        loss = loss_fn(outputs, y_train)\n",
    "        loss.backward()\n",
    "        optimizer.step()\n",
    "        print(f'Epoch {epoch+1}/{epochs}, Loss: {loss.item()}')\n",
    "        "
   ]
  },
  {
   "cell_type": "markdown",
   "metadata": {},
   "source": [
    "- **Evaluation Function**: Define the evaluation loop to assess model performance on validation data."
   ]
  },
  {
   "cell_type": "code",
   "execution_count": null,
   "metadata": {},
   "outputs": [],
   "source": [
    "def evaluate_model(model, X_val, y_val):\n",
    "    model.eval()\n",
    "    with torch.no_grad():\n",
    "        outputs = model(X_val)\n",
    "        loss = loss_fn(outputs, y_val)\n",
    "    return loss.item()\n"
   ]
  },
  {
   "cell_type": "markdown",
   "metadata": {},
   "source": [
    "## 8. Training Process\n",
    "- **Epochs**: Set the number of epochs for training."
   ]
  },
  {
   "cell_type": "code",
   "execution_count": null,
   "metadata": {},
   "outputs": [],
   "source": [
    "epochs = 50"
   ]
  },
  {
   "cell_type": "markdown",
   "metadata": {},
   "source": [
    "- **Model Saving**: Save the model weights if validation loss improves."
   ]
  },
  {
   "cell_type": "code",
   "execution_count": null,
   "metadata": {},
   "outputs": [],
   "source": [
    "best_loss = float('inf')\n",
    "for epoch in range(epochs):\n",
    "    train_model(model, X_train, y_train, 1)\n",
    "    val_loss = evaluate_model(model, X_val, y_val)\n",
    "    \n",
    "    if val_loss < best_loss:\n",
    "        best_loss = val_loss\n",
    "        torch.save(model.state_dict(), f'{weights_dir}/best_model.pth')\n"
   ]
  },
  {
   "cell_type": "markdown",
   "metadata": {},
   "source": [
    "## 9. Visualization\n",
    "- **Loss Visualization**: Plot training and validation loss over epochs."
   ]
  },
  {
   "cell_type": "code",
   "execution_count": null,
   "metadata": {},
   "outputs": [],
   "source": [
    "# Plot training and validation loss\n",
    "plt.plot(train_losses, label='Train Loss')\n",
    "plt.plot(val_losses, label='Validation Loss')\n",
    "plt.xlabel('Epochs')\n",
    "plt.ylabel('Loss')\n",
    "plt.legend()\n",
    "plt.show()\n"
   ]
  },
  {
   "cell_type": "markdown",
   "metadata": {},
   "source": [
    "## 10. Prediction and Evaluation\n",
    "- **Model Loading**: Load the best model for predictions."
   ]
  },
  {
   "cell_type": "code",
   "execution_count": null,
   "metadata": {},
   "outputs": [],
   "source": [
    "# Load the best model\n",
    "model.load_state_dict(torch.load(f'{weights_dir}/best_model.pth'))\n",
    "model.eval()"
   ]
  },
  {
   "cell_type": "markdown",
   "metadata": {},
   "source": [
    "- **Prediction on Datasets**: Predict values for training, validation, and test datasets."
   ]
  },
  {
   "cell_type": "code",
   "execution_count": null,
   "metadata": {},
   "outputs": [],
   "source": [
    "# Make predictions\n",
    "y_train_pred = model(X_train)\n",
    "y_val_pred = model(X_val)\n",
    "y_test_pred = model(X_test)"
   ]
  },
  {
   "cell_type": "markdown",
   "metadata": {},
   "source": [
    "- **Performance Metrics**: Calculate MAE, RMSE, and accuracy for predictions."
   ]
  },
  {
   "cell_type": "code",
   "execution_count": null,
   "metadata": {},
   "outputs": [],
   "source": [
    "# Calculate performance metrics\n",
    "mae = mean_absolute_error(y_test, y_test_pred)\n",
    "rmse = math.sqrt(mean_squared_error(y_test, y_test_pred))\n",
    "print(f'MAE: {mae}, RMSE: {rmse}')"
   ]
  },
  {
   "cell_type": "markdown",
   "metadata": {},
   "source": [
    "## 11. Class-wise Performance\n",
    "- **Performance by Class**: Calculate and display performance metrics for each class in the test dataset."
   ]
  },
  {
   "cell_type": "code",
   "execution_count": null,
   "metadata": {},
   "outputs": [],
   "source": [
    "# Calculate performance metrics for each class\n",
    "for class_label in test_data['class'].unique():\n",
    "    class_data = test_data[test_data['class'] == class_label]\n",
    "    class_pred = model(class_data[['xmin', 'ymin', 'xmax', 'ymax']])\n",
    "    mae = mean_absolute_error(class_data['z_loc'], class_pred)\n",
    "    print(f'Class: {class_label}, MAE: {mae}')\n"
   ]
  },
  {
   "cell_type": "markdown",
   "metadata": {},
   "source": [
    "## 12. Additional Metrics\n",
    "- **Relative Differences**: Calculate additional performance metrics based on relative differences."
   ]
  },
  {
   "cell_type": "code",
   "execution_count": null,
   "metadata": {},
   "outputs": [],
   "source": [
    "# Calculate relative differences\n",
    "relative_diff = np.abs(y_test - y_test_pred) / y_test\n",
    "print(f'Average Relative Difference: {np.mean(relative_diff)}')"
   ]
  },
  {
   "cell_type": "markdown",
   "metadata": {},
   "source": [
    "## 13. Accuracy by Distance Range\n",
    "- **Distance Segmentation**: Divide predictions by distance ranges and calculate accuracy."
   ]
  },
  {
   "cell_type": "code",
   "execution_count": null,
   "metadata": {},
   "outputs": [],
   "source": [
    "# Segment by distance range and calculate accuracy\n",
    "distance_bins = [0, 10, 20, 30, 40, 50]  # Define ranges in meters\n",
    "accuracy_by_range = []\n",
    "\n",
    "for i in range(len(distance_bins) - 1):\n",
    "    mask = (y_test >= distance_bins[i]) & (y_test < distance_bins[i+1])\n",
    "    accuracy = np.mean(np.abs(y_test[mask] - y_test_pred[mask]) < 1)  # Accuracy threshold\n",
    "    accuracy_by_range.append(accuracy)\n",
    "    print(f'Distance range {distance_bins[i]}-{distance_bins[i+1]}m, Accuracy: {accuracy}')\n"
   ]
  },
  {
   "cell_type": "markdown",
   "metadata": {},
   "source": [
    "## 14. Visualization of Results\n",
    "- **Scatter Plots**: Create scatter plots to visualize the relationship between predicted and actual values."
   ]
  },
  {
   "cell_type": "code",
   "execution_count": null,
   "metadata": {},
   "outputs": [],
   "source": [
    "# Scatter plot of actual vs predicted distances\n",
    "plt.scatter(y_test, y_test_pred)\n",
    "plt.xlabel('Actual Distance (z_loc)')\n",
    "plt.ylabel('Predicted Distance (z_loc)')\n",
    "plt.title('Actual vs Predicted Distance')\n",
    "plt.show()\n"
   ]
  }
 ],
 "metadata": {
  "kernelspec": {
   "display_name": "Python 3",
   "language": "python",
   "name": "python3"
  },
  "language_info": {
   "codemirror_mode": {
    "name": "ipython",
    "version": 3
   },
   "file_extension": ".py",
   "mimetype": "text/x-python",
   "name": "python",
   "nbconvert_exporter": "python",
   "pygments_lexer": "ipython3",
   "version": "3.11.5"
  }
 },
 "nbformat": 4,
 "nbformat_minor": 2
}
